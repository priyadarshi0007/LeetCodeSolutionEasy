{
 "cells": [
  {
   "cell_type": "code",
   "execution_count": 21,
   "metadata": {},
   "outputs": [],
   "source": [
    "nums = [2, 7, 11, 15]\n",
    "target = 9"
   ]
  },
  {
   "cell_type": "markdown",
   "metadata": {},
   "source": [
    "# Problem Statement Two Sum\n",
    "Given an array of integers, return indices of the two numbers such that they add up to a specific target.\n",
    "\n",
    "You may assume that each input would have exactly one solution, and you may not use the same element twice.\n",
    "\n",
    "Example:\n",
    "\n",
    "Given nums = [2, 7, 11, 15], target = 9,\n",
    "\n",
    "Because nums[0] + nums[1] = 2 + 7 = 9,\n",
    "return [0, 1]."
   ]
  },
  {
   "cell_type": "code",
   "execution_count": 43,
   "metadata": {},
   "outputs": [],
   "source": [
    "#Brute Force Solution\n",
    "\n",
    "class Solution:       \n",
    "    def twoSum(nums:[],int:target):\n",
    "        for i in range(len(nums)):\n",
    "            for j in range(i+1, len(nums)):\n",
    "                sum = nums[i]+nums[j]\n",
    "                if sum == target:\n",
    "                    return [nums[i],nums[j]]"
   ]
  },
  {
   "cell_type": "code",
   "execution_count": 28,
   "metadata": {},
   "outputs": [],
   "source": [
    "# Optimized Solution for Two Sum Problem\n",
    "class Solution:       \n",
    "    def twoSum(nums,target):\n",
    "        for i in range(len(nums)):\n",
    "            for j in range(i+1, len(nums)):\n",
    "                sum = nums[i]+nums[j]\n",
    "                if sum == target:\n",
    "                    return [i,j]"
   ]
  },
  {
   "cell_type": "code",
   "execution_count": 31,
   "metadata": {},
   "outputs": [],
   "source": [
    "# Best Solution for Two Sum Probkem\n",
    "class Solution:       \n",
    "    def twoSum(self,nums,target):\n",
    "        complementMap = dict()\n",
    "        for i in range(len(nums)):\n",
    "            if target - nums[i] not in complementMap:\n",
    "                complementMap[nums[i]] = i                \n",
    "            else:\n",
    "                return[complementMap[nums], i]"
   ]
  },
  {
   "cell_type": "markdown",
   "metadata": {},
   "source": [
    "# Problem Statement Roman Numerals to Integer\n",
    "\n",
    "Roman numerals are represented by seven different symbols: I, V, X, L, C, D and M.\n",
    "\n",
    "Symbol       Value\n",
    "I             1\n",
    "V             5\n",
    "X             10\n",
    "L             50\n",
    "C             100\n",
    "D             500\n",
    "M             1000\n",
    "\n",
    "For example, two is written as II in Roman numeral, just two one's added together. Twelve is written as, XII, which is simply X + II. The number twenty seven is written as XXVII, which is XX + V + II."
   ]
  },
  {
   "cell_type": "code",
   "execution_count": 47,
   "metadata": {},
   "outputs": [],
   "source": [
    "# Brute Force Solution For Roman to Numerals \n",
    "class Solution:\n",
    "    def romanToInt(s: str):\n",
    "        romanDict =  {'I':1,'V':5,'X':10,'L':50,'C':100,'D':'500','M':1000}\n",
    "        result = 0        \n",
    "        for i in range(0,len(s)-1):\n",
    "            character = s[i]\n",
    "            characterAfter = s[i+1]\n",
    "            if romanDict[s[i]] < romanDict [s[i+1]]:\n",
    "                result = result - romanDict[character]\n",
    "            else:\n",
    "                result = result + romanDict[character]                \n",
    "        result = result + romanDict[s[-1]]\n",
    "        return result"
   ]
  },
  {
   "cell_type": "code",
   "execution_count": 49,
   "metadata": {},
   "outputs": [
    {
     "name": "stdout",
     "output_type": "stream",
     "text": [
      "1\n",
      "5\n",
      "4\n"
     ]
    }
   ],
   "source": [
    "print(Solution.romanToInt('IV'))"
   ]
  },
  {
   "cell_type": "code",
   "execution_count": 44,
   "metadata": {},
   "outputs": [
    {
     "name": "stdout",
     "output_type": "stream",
     "text": [
      "[2, 7]\n"
     ]
    }
   ],
   "source": [
    "print(Solution.twoSum(nums,target))"
   ]
  },
  {
   "cell_type": "code",
   "execution_count": 50,
   "metadata": {},
   "outputs": [],
   "source": [
    "#Optimized Solution for Roman Numerals to Intezer \n",
    "class Solution:\n",
    "    def romanToInt(s: str):\n",
    "        romanDict =  {'I':1,'V':5,'X':10,'L':50,'C':100,'D':'500','M':1000}\n",
    "        result = 0        \n",
    "        for i in range(len(s)):\n",
    "            if i >0 and romanDict[s[i]] > romanDict[s[i-1]]:\n",
    "                result += romanDict[s[i]] - 2* romanDict[s[i-1]]\n",
    "            else:\n",
    "                result = result + romanDict[s[i]]\n",
    "                \n",
    "        return result"
   ]
  },
  {
   "cell_type": "code",
   "execution_count": null,
   "metadata": {},
   "outputs": [],
   "source": []
  }
 ],
 "metadata": {
  "kernelspec": {
   "display_name": "Python 3",
   "language": "python",
   "name": "python3"
  },
  "language_info": {
   "codemirror_mode": {
    "name": "ipython",
    "version": 3
   },
   "file_extension": ".py",
   "mimetype": "text/x-python",
   "name": "python",
   "nbconvert_exporter": "python",
   "pygments_lexer": "ipython3",
   "version": "3.7.3"
  }
 },
 "nbformat": 4,
 "nbformat_minor": 2
}
